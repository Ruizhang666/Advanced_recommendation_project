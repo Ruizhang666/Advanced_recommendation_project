{
 "cells": [
  {
   "cell_type": "markdown",
   "id": "b0d5fa47-3662-4422-af83-fb5ff745f856",
   "metadata": {},
   "source": [
    "# 5.3 Least Viewed Movies Exploration\n",
    "In this notebook we'll add another source of movies to our ranking model - a list of all least viewed movies, in addition to the top moves selected by the retrieval model. This will allow these movies to be exposed to more users."
   ]
  },
  {
   "cell_type": "code",
   "execution_count": 1,
   "id": "99a4563a-b40d-495f-9dcb-7c03bc0a6278",
   "metadata": {},
   "outputs": [],
   "source": [
    "import json\n",
    "import numpy as np\n",
    "import pandas as pd\n",
    "import tensorflow as tf\n",
    "import tensorflow_recommenders as tfrs"
   ]
  },
  {
   "cell_type": "markdown",
   "id": "430b334b-4afa-4bca-88eb-9943058dc667",
   "metadata": {},
   "source": [
    "Loading data and metadata:"
   ]
  },
  {
   "cell_type": "code",
   "execution_count": 2,
   "id": "9b141a8c-cfe6-41be-b873-f38a77d85c49",
   "metadata": {},
   "outputs": [],
   "source": [
    "train_df = pd.read_csv('../local_data/train_data.csv', header=0)\n",
    "test_df = pd.read_csv('../local_data/test_data.csv', header=0)\n",
    "with open('../local_data/metadata.json', 'r') as f:\n",
    "    metadata = json.load(f)"
   ]
  },
  {
   "cell_type": "code",
   "execution_count": 3,
   "id": "138db210-239a-4170-ad09-c0d1ebb8ecb3",
   "metadata": {},
   "outputs": [],
   "source": [
    "all_users = [str(int(i)) for i in metadata['users']]\n",
    "all_movies = [str(int(i)) for i in metadata['movies']]\n",
    "all_cities = metadata['cities']\n",
    "all_states = metadata['states']\n",
    "all_ages = [str(int(i)) for i in metadata['ages']]\n",
    "all_occupations = [str(int(i)) for i in metadata['occupations']]\n",
    "all_genres = metadata['genres']\n",
    "title_emb_len = metadata['title_emb_size']\n",
    "na_value = metadata['string_na']"
   ]
  },
  {
   "cell_type": "code",
   "execution_count": 4,
   "id": "aac2c9b4-ac89-4f2b-a86a-a784912f747c",
   "metadata": {},
   "outputs": [
    {
     "name": "stderr",
     "output_type": "stream",
     "text": [
      "2022-02-26 18:12:16.848098: I tensorflow/core/platform/cpu_feature_guard.cc:142] This TensorFlow binary is optimized with oneAPI Deep Neural Network Library (oneDNN) to use the following CPU instructions in performance-critical operations:  AVX2 FMA\n",
      "To enable them in other operations, rebuild TensorFlow with the appropriate compiler flags.\n"
     ]
    }
   ],
   "source": [
    "movies_candidates = tf.data.Dataset.from_tensor_slices({'movie': train_df['movie'].unique()}).map(lambda x: x['movie']).batch(200).map(tf.strings.as_string)"
   ]
  },
  {
   "cell_type": "markdown",
   "id": "2ef98050-b5c4-41ce-80e7-f23b10d889e6",
   "metadata": {},
   "source": [
    "Creating a movies Feature Store:"
   ]
  },
  {
   "cell_type": "code",
   "execution_count": 5,
   "id": "f694e807-c29c-4fb2-a747-8db9fb9acb63",
   "metadata": {},
   "outputs": [],
   "source": [
    "movies_db = pd.concat([train_df, test_df]).drop(['user','city','state','gender','age','occupation','hour','day','month','rating'], axis=1)\n",
    "movies_db = movies_db.groupby('movie').first()\n",
    "movies_db['movie'] = movies_db.index"
   ]
  },
  {
   "cell_type": "code",
   "execution_count": 6,
   "id": "ada9310f-7e0b-46f0-9bc2-4377ac66e280",
   "metadata": {},
   "outputs": [],
   "source": [
    "def get_movie_features(movies_list):\n",
    "    df = movies_db.loc[movies_list,:]\n",
    "    d = {k:v.to_numpy() for k,v in dict(df).items()}\n",
    "    d['genres'] = np.transpose(np.array([d[x] for x in all_genres]))\n",
    "    d['title_emb'] = np.transpose(np.array([d[f'title_emb_{i}'] for i in range(title_emb_len)]))\n",
    "    for x in all_genres + [f'title_emb_{i}' for i in range(title_emb_len)]:\n",
    "        d.pop(x)\n",
    "    d.update({k:np.expand_dims(np.vstack(v), axis=0) for k,v in d.items()})\n",
    "    return d"
   ]
  },
  {
   "cell_type": "markdown",
   "id": "eb75ad09-9334-4e1e-ac41-3a5db0851a99",
   "metadata": {},
   "source": [
    "Loading models from projects #3.2 and #4.1:"
   ]
  },
  {
   "cell_type": "code",
   "execution_count": 7,
   "id": "a127c1f8-b508-42d3-8bed-ae478227cd2f",
   "metadata": {},
   "outputs": [],
   "source": [
    "class RatingPredictionModel(tfrs.models.Model):\n",
    "    def __init__(self):\n",
    "        super().__init__()\n",
    "        \n",
    "        tower_last_layer_size = 50\n",
    "        large_embedding_size = 25\n",
    "        medium_embedding_size = 5\n",
    "        small_embedding_size = 3\n",
    "        \n",
    "        # User tower\n",
    "        \n",
    "        self.user_input = tf.keras.Input(shape=(1,), dtype=tf.string, name='user_input')\n",
    "        self.user_sl = tf.keras.layers.StringLookup(vocabulary=all_users, name='user_string_lookup')(self.user_input)\n",
    "        self.user_emb = tf.squeeze(tf.keras.layers.Embedding(len(all_users)+1, large_embedding_size, name='user_emb')(self.user_sl), axis=1)\n",
    "        \n",
    "        self.city_input = tf.keras.Input(shape=(1,), dtype=tf.string, name='city_input')\n",
    "        self.city_sl = tf.keras.layers.StringLookup(vocabulary=all_cities, mask_token=na_value, name='city_string_lookup')(self.city_input)\n",
    "        self.city_emb = tf.squeeze(tf.keras.layers.Embedding(len(all_cities)+2, medium_embedding_size, name='city_emb')(self.city_sl), axis=1)\n",
    "        \n",
    "        self.state_input = tf.keras.Input(shape=(1,), dtype=tf.string, name='state_input')\n",
    "        self.state_sl = tf.keras.layers.StringLookup(vocabulary=all_states, mask_token=na_value, name='state_string_lookup')(self.state_input)\n",
    "        self.state_emb = tf.squeeze(tf.keras.layers.Embedding(len(all_states)+2, small_embedding_size, name='state_emb')(self.state_sl), axis=1)\n",
    "        \n",
    "        self.age_input = tf.keras.Input(shape=(1,), dtype=tf.string, name='age_input')\n",
    "        self.age_sl = tf.keras.layers.StringLookup(vocabulary=all_ages, num_oov_indices=0, name='age_string_lookup')(self.age_input)\n",
    "        self.age_emb = tf.squeeze(tf.keras.layers.Embedding(len(all_ages), small_embedding_size, name='age_emb')(self.age_sl), axis=1)\n",
    "        \n",
    "        self.occupation_input = tf.keras.Input(shape=(1,), dtype=tf.string, name='occupation_input')\n",
    "        self.occupation_sl = tf.keras.layers.StringLookup(vocabulary=all_occupations, num_oov_indices=0, name='occupation_string_lookup')(self.occupation_input)\n",
    "        self.occupation_emb = tf.squeeze(tf.keras.layers.Embedding(len(all_occupations), small_embedding_size, name='occupation_emb')(self.occupation_sl), axis=1)\n",
    "        \n",
    "        self.gender_input = tf.keras.Input(shape=(1,), name='gender_input')\n",
    "        self.hour_input = tf.keras.Input(shape=(1,), name='hour_input')\n",
    "        self.day_input = tf.keras.Input(shape=(1,), name='day_input')\n",
    "        self.month_input = tf.keras.Input(shape=(1,), name='month_input')\n",
    "        \n",
    "        self.user_merged = tf.keras.layers.concatenate([self.user_emb, self.city_emb, self.state_emb, self.age_emb, \n",
    "                                                        self.occupation_emb, self.gender_input, self.hour_input,\n",
    "                                                        self.day_input, self.month_input], \n",
    "                                                       axis=-1, name='user_merged')\n",
    "        self.user_dense = tf.keras.layers.Dense(100, activation='relu', name='user_dense')(self.user_merged)\n",
    "        self.user_last_layer = tf.keras.layers.Dense(tower_last_layer_size, activation='relu', name='user_last_layer')(self.user_dense)\n",
    "        \n",
    "        # Movie tower\n",
    "        \n",
    "        self.movie_input = tf.keras.Input(shape=(None,1), dtype=tf.string, name='movie_input ')\n",
    "        self.movie_sl = tf.keras.layers.StringLookup(vocabulary=all_movies, name='movie_string_lookup')(self.movie_input)\n",
    "        self.movie_emb = tf.squeeze(tf.keras.layers.Embedding(len(all_movies)+1, large_embedding_size, name='movie_emb')(self.movie_sl), axis=2)\n",
    "        \n",
    "        self.title_input = tf.keras.Input(shape=(None,title_emb_len), name='title_input')\n",
    "        self.title_dense = tf.keras.layers.Dense(title_emb_len, activation='softmax', name='title_softmax')(self.title_input)\n",
    "        \n",
    "        self.genres_input = tf.keras.Input(shape=(None,len(all_genres)), name='genres_input')\n",
    "        self.year_input = tf.keras.Input(shape=(None,1), name='year_input')\n",
    "        \n",
    "        self.movie_merged = tf.keras.layers.concatenate([self.movie_emb, self.title_dense, self.genres_input, self.year_input] ,axis=-1, name='movie_merged')\n",
    "        self.movie_dense = tf.keras.layers.Dense(100, activation='relu', name='movie_dense')(self.movie_merged)\n",
    "        self.movie_last_layer = tf.keras.layers.Dense(tower_last_layer_size, activation='relu', name='movie_last_layer')(self.movie_dense)\n",
    "        \n",
    "        # Combining towers\n",
    "        \n",
    "        self.towers_multiplied = tf.keras.layers.Multiply(name='towers_multiplied')([tf.expand_dims(self.user_last_layer, axis=2), \n",
    "                                                                                     tf.transpose(self.movie_last_layer, perm=[0,2,1])])\n",
    "        self.towers_dense1 = tf.keras.layers.Dense(40, activation='relu', name='towers_dense1')(tf.transpose(self.towers_multiplied, perm=[0,2,1]))\n",
    "        self.towers_dense2 = tf.keras.layers.Dense(20, activation='relu', name='towers_dense2')(self.towers_dense1)\n",
    "        self.output_node = tf.keras.layers.Dense(1, name='output_node')(self.towers_dense2)\n",
    "        \n",
    "        # Model definition\n",
    "        \n",
    "        self.model = tf.keras.Model(inputs={'user': self.user_input, \n",
    "                                            'city': self.city_input,\n",
    "                                            'state': self.state_input,\n",
    "                                            'age': self.age_input,\n",
    "                                            'occupation': self.occupation_input,\n",
    "                                            'gender': self.gender_input,\n",
    "                                            'hour': self.hour_input,\n",
    "                                            'day': self.day_input,\n",
    "                                            'month': self.month_input,\n",
    "                                            'movie': self.movie_input,\n",
    "                                            'title': self.title_input,\n",
    "                                            'genres': self.genres_input,\n",
    "                                            'year': self.year_input\n",
    "                                            }, \n",
    "                                    outputs=self.output_node)\n",
    "        \n",
    "        self.task = tfrs.tasks.Ranking(\n",
    "            loss = tf.keras.losses.MeanSquaredError(),\n",
    "            metrics=[tf.keras.metrics.RootMeanSquaredError()]\n",
    "        )\n",
    "        \n",
    "    def call(self, features):\n",
    "        return self.model({'user': tf.strings.as_string(features[\"user\"]), \n",
    "                           'city': features[\"city\"], \n",
    "                           'state': features[\"state\"],\n",
    "                           'age': tf.strings.as_string(features[\"age\"]),\n",
    "                           'occupation': tf.strings.as_string(features[\"occupation\"]), \n",
    "                           'gender': features[\"gender\"],\n",
    "                           'hour': features[\"hour\"],\n",
    "                           'day': features[\"day\"],\n",
    "                           'month': features[\"month\"],\n",
    "                           'movie': tf.strings.as_string(features[\"movie\"]),\n",
    "                           'title': features[\"title_emb\"],\n",
    "                           'genres': features[\"genres\"],\n",
    "                           'year': features[\"movie_year\"]\n",
    "                           })\n",
    "    \n",
    "    def compute_loss(self, features_dict, training=False):\n",
    "        labels = features_dict[\"rating\"]\n",
    "        predictions = self(features_dict)\n",
    "        return self.task(labels=labels, predictions=predictions)"
   ]
  },
  {
   "cell_type": "code",
   "execution_count": 8,
   "id": "6de1fb25-85cd-4097-9b44-fd5d97f9f659",
   "metadata": {},
   "outputs": [],
   "source": [
    "class MoviesRetrievalModel(tfrs.models.Model):\n",
    "    def __init__(self):\n",
    "        super().__init__()\n",
    "        \n",
    "        large_embedding_size = 20\n",
    "        medium_embedding_size = 5\n",
    "        small_embedding_size = 3\n",
    "        last_layer_size = 20\n",
    "        \n",
    "        # User Model\n",
    "        \n",
    "        self.user_input = tf.keras.Input(shape=(1,), dtype=tf.string, name='user_input')\n",
    "        self.user_sl = tf.keras.layers.StringLookup(vocabulary=all_users, name='user_string_lookup')(self.user_input)\n",
    "        self.user_emb = tf.squeeze(tf.keras.layers.Embedding(len(all_users)+1, large_embedding_size, name='user_emb')(self.user_sl), axis=1)\n",
    "        \n",
    "        self.city_input = tf.keras.Input(shape=(1,), dtype=tf.string, name='city_input')\n",
    "        self.city_sl = tf.keras.layers.StringLookup(vocabulary=all_cities, mask_token=na_value, name='city_string_lookup')(self.city_input)\n",
    "        self.city_emb = tf.squeeze(tf.keras.layers.Embedding(len(all_cities)+2, medium_embedding_size, name='city_emb')(self.city_sl), axis=1)\n",
    "        \n",
    "        self.state_input = tf.keras.Input(shape=(1,), dtype=tf.string, name='state_input')\n",
    "        self.state_sl = tf.keras.layers.StringLookup(vocabulary=all_states, mask_token=na_value, name='state_string_lookup')(self.state_input)\n",
    "        self.state_emb = tf.squeeze(tf.keras.layers.Embedding(len(all_states)+2, small_embedding_size, name='state_emb')(self.state_sl), axis=1)\n",
    "        \n",
    "        self.user_merged = tf.keras.layers.concatenate([self.user_emb, self.city_emb, self.state_emb], \n",
    "                                                       axis=-1, name='user_merged')\n",
    "        self.user_dense = tf.keras.layers.Dense(last_layer_size, activation='relu', name='user_dense')(self.user_merged)\n",
    "        \n",
    "        self.user_model = tf.keras.Model(inputs={'user': self.user_input,\n",
    "                                                 'city': self.city_input,\n",
    "                                                 'state': self.state_input},\n",
    "                                         outputs=self.user_dense)\n",
    "        \n",
    "        \n",
    "        # Movie Model\n",
    "        \n",
    "        self.movie_input = tf.keras.Input(shape=(1,), dtype=tf.string, name='movie_input ')\n",
    "        self.movie_sl = tf.keras.layers.StringLookup(vocabulary=all_movies, name='movie_string_lookup')(self.movie_input)\n",
    "        self.movie_emb = tf.squeeze(tf.keras.layers.Embedding(len(all_movies)+1, last_layer_size, name='movie_emb')(self.movie_sl), axis=1)\n",
    "        \n",
    "        self.movie_model = tf.keras.Model(inputs={'movie': self.movie_input},\n",
    "                                          outputs=self.movie_emb)\n",
    "        \n",
    "        \n",
    "        # Task\n",
    "        \n",
    "        task_candidates = movies_candidates.map(self.movie_model)  \n",
    "        top_k_metrics = [tf.keras.metrics.TopKCategoricalAccuracy(k=x, name=f'top_{x}_categorical_accuracy') for x in [10, 100]]\n",
    "        task_metric = tfrs.metrics.FactorizedTopK(candidates=task_candidates, metrics=top_k_metrics)\n",
    "        self.task = tfrs.tasks.Retrieval(metrics=task_metric)  # Default loss: tf.keras.losses.CategoricalCrossentropy\n",
    "        \n",
    "    \n",
    "    def compute_loss(self, features, training=False):\n",
    "        return self.task(\n",
    "            self.user_model({'user': tf.strings.as_string(features[\"user\"]), \n",
    "                             'city': features[\"city\"],\n",
    "                             'state': features[\"state\"]}),\n",
    "            self.movie_model(tf.strings.as_string(features[\"movie\"]))\n",
    "        )"
   ]
  },
  {
   "cell_type": "code",
   "execution_count": 9,
   "id": "506753df-d9d8-436e-b973-3a1cba587aac",
   "metadata": {},
   "outputs": [
    {
     "data": {
      "text/plain": [
       "<tensorflow.python.training.tracking.util.CheckpointLoadStatus at 0x14dd5db50>"
      ]
     },
     "execution_count": 9,
     "metadata": {},
     "output_type": "execute_result"
    }
   ],
   "source": [
    "retrieval_model = MoviesRetrievalModel()\n",
    "ranking_model = RatingPredictionModel()\n",
    "retrieval_model.compile()\n",
    "ranking_model.compile()\n",
    "retrieval_model.load_weights('../project_4/weights_4_1/p41')\n",
    "ranking_model.load_weights('../project_3/weights_3_2/p32')"
   ]
  },
  {
   "cell_type": "markdown",
   "id": "3748a4ae-b182-4965-a526-b060b9ce8220",
   "metadata": {},
   "source": [
    "We set are retrieval to return only 10 movies:"
   ]
  },
  {
   "cell_type": "code",
   "execution_count": 10,
   "id": "d3a1ff03-4f8b-444f-8769-c88b0f36379a",
   "metadata": {},
   "outputs": [
    {
     "name": "stderr",
     "output_type": "stream",
     "text": [
      "2022-02-26 18:12:19.420523: I tensorflow/compiler/mlir/mlir_graph_optimization_pass.cc:185] None of the MLIR Optimization Passes are enabled (registered 2)\n"
     ]
    },
    {
     "data": {
      "text/plain": [
       "<tensorflow_recommenders.layers.factorized_top_k.BruteForce at 0x14de129d0>"
      ]
     },
     "execution_count": 10,
     "metadata": {},
     "output_type": "execute_result"
    }
   ],
   "source": [
    "retrieval = tfrs.layers.factorized_top_k.BruteForce(retrieval_model.user_model, k=10)\n",
    "retrieval.index_from_dataset(\n",
    "  tf.data.Dataset.zip((movies_candidates, movies_candidates.map(retrieval_model.movie_model)))\n",
    ")"
   ]
  },
  {
   "cell_type": "markdown",
   "id": "e896cb39-b2f6-4508-a25b-86d006a81f74",
   "metadata": {},
   "source": [
    "Creating a list of movies only watched once:"
   ]
  },
  {
   "cell_type": "code",
   "execution_count": 11,
   "id": "ca78ac15-1d74-4606-bf4c-45144b46bd90",
   "metadata": {},
   "outputs": [],
   "source": [
    "movies_count = train_df[['movie']].groupby(by='movie').size().sort_values()\n",
    "least_viewed = movies_count.where(movies_count == 1).dropna().index.to_numpy()"
   ]
  },
  {
   "cell_type": "markdown",
   "id": "49efe6fe-e926-4b97-818b-7ab4f70c11f4",
   "metadata": {},
   "source": [
    "## Online predictions\n",
    "Making predicions for a test user. We recieve a list of 10 top movies for this user from the retrieval model, and then before passing it to the ranking model, we concatenate it with the list of the least-viewed movies. In this example, movie IDs which are shown as `b'...'` are the movies recieved from the retrieval model, and the others are the ones from the least-viewed list. We can clearly see the latter movies now appear on the final list, even though the model had 10 better movies at hand."
   ]
  },
  {
   "cell_type": "code",
   "execution_count": 12,
   "id": "cd7fdfed-d164-4bfe-add9-10c326c8d77e",
   "metadata": {},
   "outputs": [
    {
     "data": {
      "text/plain": [
       "{'user': 6040,\n",
       " 'city': 'Astoria',\n",
       " 'state': 'NY',\n",
       " 'gender': 0.0,\n",
       " 'age': 25,\n",
       " 'occupation': 6,\n",
       " 'hour': 2,\n",
       " 'day': 3,\n",
       " 'month': 4}"
      ]
     },
     "execution_count": 12,
     "metadata": {},
     "output_type": "execute_result"
    }
   ],
   "source": [
    "test_user = dict(test_df[['user','city','state','gender','age','occupation','hour','day','month']].iloc[0])\n",
    "test_user"
   ]
  },
  {
   "cell_type": "code",
   "execution_count": 13,
   "id": "aaee54ae-9dc2-46c9-b5d6-ac7f786f0de8",
   "metadata": {},
   "outputs": [
    {
     "name": "stdout",
     "output_type": "stream",
     "text": [
      "Top 10 predicted movies for user 6040:\n"
     ]
    },
    {
     "data": {
      "text/plain": [
       "[(b'260', 4.11469),\n",
       " (b'1210', 3.783932),\n",
       " (b'3753', 3.51542),\n",
       " (b'3555', 3.2687955),\n",
       " (b'2013', 3.1841974),\n",
       " (398, 3.0998983),\n",
       " (b'3798', 3.0679595),\n",
       " (3237, 3.042822),\n",
       " (1852, 3.042057),\n",
       " (3277, 3.0390491)]"
      ]
     },
     "execution_count": 13,
     "metadata": {},
     "output_type": "execute_result"
    }
   ],
   "source": [
    "movies_list = np.concatenate((retrieval([tf.constant([str(v)]) for k,v in test_user.items() if k in ['user','city','state']])[1].numpy()[0], \n",
    "                              least_viewed))\n",
    "movies_data = get_movie_features([int(x) for x in movies_list])\n",
    "ranking_input = {k:np.array([v]) for k,v in test_user.items()}\n",
    "ranking_input.update(movies_data)\n",
    "predicted_rating = ranking_model.predict(ranking_input)[0]\n",
    "\n",
    "print(f'Top 10 predicted movies for user {test_user[\"user\"]}:')\n",
    "sorted(zip(movies_list, np.squeeze(predicted_rating)), key=lambda x: x[1], reverse=True)[:10]"
   ]
  }
 ],
 "metadata": {
  "kernelspec": {
   "display_name": "Python 3 (ipykernel)",
   "language": "python",
   "name": "python3"
  },
  "language_info": {
   "codemirror_mode": {
    "name": "ipython",
    "version": 3
   },
   "file_extension": ".py",
   "mimetype": "text/x-python",
   "name": "python",
   "nbconvert_exporter": "python",
   "pygments_lexer": "ipython3",
   "version": "3.9.6"
  }
 },
 "nbformat": 4,
 "nbformat_minor": 5
}
