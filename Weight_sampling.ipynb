{
 "cells": [
  {
   "cell_type": "markdown",
   "id": "8852076e-a6d0-42a8-bf1e-58506e6cda11",
   "metadata": {},
   "source": [
    "# 5.1 Post-prediction Exploration\n",
    "In this notebook we'll see an example of post-prediction exploration method which uses weighted sampling to re-rank the predicted list order, allowing lower-ranked items to surface up. Still, as the re-rankin method depends on the weight of each item, on average the higher ranked items are displayed higher in the list than lower-ranked items, not entirely ignoring the ranking model's predictions."
   ]
  },
  {
   "cell_type": "code",
   "execution_count": 1, 
   "id": "f6ed706e-723b-426b-8d54-5ebc50046bec",
   "metadata": {},
   "outputs": [],
   "source": [
    "import json\n",
    "import numpy as np\n",
    "import pandas as pd\n",
    "import seaborn as sns\n",
    "import tensorflow as tf\n",
    "import matplotlib.pyplot as plt\n",
    "import tensorflow_recommenders as tfrs"
   ]
  },
  {
   "cell_type": "markdown",
   "id": "09926c17-c387-48e9-b669-fcf4fc7f7cad",
   "metadata": {},
   "source": [
    "Loading data and metadata, and converting to to Datasets."
   ]
  },
  {
   "cell_type": "code",
   "execution_count": 2, 
   "id": "ab31bfa5-c050-4712-8cc5-a77345092c9e",
   "metadata": {},
   "outputs": [],
   "source": [
    "train_df = pd.read_csv('../local_data/train_data.csv', header=0)\n",
    "test_df = pd.read_csv('../local_data/test_data.csv', header=0)\n",
    "with open('../local_data/metadata.json', 'r') as f:\n",
    "    metadata = json.load(f)"
   ]
  },
  {
   "cell_type": "code",
   "execution_count": 3, 
   "id": "1544f725-1972-4af1-b893-3b06842183f7",
   "metadata": {},
   "outputs": [],
   "source": [
    "all_users = [str(int(i)) for i in metadata['users']]\n",
    "all_movies = [str(int(i)) for i in metadata['movies']]\n",
    "all_cities = metadata['cities']\n",
    "all_states = metadata['states']\n",
    "all_ages = [str(int(i)) for i in metadata['ages']]\n",
    "all_occupations = [str(int(i)) for i in metadata['occupations']]\n",
    "all_genres = metadata['genres']\n",
    "title_emb_len = metadata['title_emb_size']\n",
    "na_value = metadata['string_na']"
   ]
  },
  {
   "cell_type": "code",
   "execution_count": 4, 
   "id": "4bbc783a-422d-45d3-a880-447b7e9ad68c",
   "metadata": {},
   "outputs": [],
   "source": [
    "def convert_to_dataset(df):\n",
    "    movie_features = ['movie', 'title_emb', 'genres', 'movie_year', 'rating']\n",
    "    d = {k:v.to_numpy() for k,v in dict(df).items()}\n",
    "    d['genres'] = np.transpose(np.array([d[x] for x in all_genres]))\n",
    "    d['title_emb'] = np.transpose(np.array([d[f'title_emb_{i}'] for i in range(title_emb_len)]))\n",
    "    for x in all_genres + [f'title_emb_{i}' for i in range(title_emb_len)]:\n",
    "        d.pop(x)\n",
    "    d = {k:(np.expand_dims(v, axis=1) if k in movie_features else v) for k,v in d.items()}\n",
    "    return tf.data.Dataset.from_tensor_slices(d)\n",
    "\n",
    "train_dataset = convert_to_dataset(train_df)\n",
    "test_dataset = convert_to_dataset(test_df)"
   ]
  },
  {
   "cell_type": "markdown",
   "id": "e3b56c1b-76a5-4479-a6f1-6e9a4bd144c8",
   "metadata": {},
   "source": [
    "Loading our ranking model from project #3.2:"
   ]
  },
  {
   "cell_type": "code",
   "execution_count": 5, 
   "id": "76489a52-7b52-40fd-90d7-1c8d1fd0dd95",
   "metadata": {},
   "outputs": [],
   "source": [
    "class RatingPredictionModel(tfrs.models.Model):\n",
    "    def __init__(self):\n",
    "        super().__init__()\n",
    "        \n",
    "        tower_last_layer_size = 50\n",
    "        large_embedding_size = 25\n",
    "        medium_embedding_size = 5\n",
    "        small_embedding_size = 3\n",
    "        \n",
    "        # User tower\n",
    "        \n",
    "        self.user_input = tf.keras.Input(shape=(1,), dtype=tf.string, name='user_input')\n",
    "        self.user_sl = tf.keras.layers.StringLookup(vocabulary=all_users, name='user_string_lookup')(self.user_input)\n",
    "        self.user_emb = tf.squeeze(tf.keras.layers.Embedding(len(all_users)+1, large_embedding_size, name='user_emb')(self.user_sl), axis=1)\n",
    "        \n",
    "        self.city_input = tf.keras.Input(shape=(1,), dtype=tf.string, name='city_input')\n",
    "        self.city_sl = tf.keras.layers.StringLookup(vocabulary=all_cities, mask_token=na_value, name='city_string_lookup')(self.city_input)\n",
    "        self.city_emb = tf.squeeze(tf.keras.layers.Embedding(len(all_cities)+2, medium_embedding_size, name='city_emb')(self.city_sl), axis=1)\n",
    "        \n",
    "        self.state_input = tf.keras.Input(shape=(1,), dtype=tf.string, name='state_input')\n",
    "        self.state_sl = tf.keras.layers.StringLookup(vocabulary=all_states, mask_token=na_value, name='state_string_lookup')(self.state_input)\n",
    "        self.state_emb = tf.squeeze(tf.keras.layers.Embedding(len(all_states)+2, small_embedding_size, name='state_emb')(self.state_sl), axis=1)\n",
    "        \n",
    "        self.age_input = tf.keras.Input(shape=(1,), dtype=tf.string, name='age_input')\n",
    "        self.age_sl = tf.keras.layers.StringLookup(vocabulary=all_ages, num_oov_indices=0, name='age_string_lookup')(self.age_input)\n",
    "        self.age_emb = tf.squeeze(tf.keras.layers.Embedding(len(all_ages), small_embedding_size, name='age_emb')(self.age_sl), axis=1)\n",
    "        \n",
    "        self.occupation_input = tf.keras.Input(shape=(1,), dtype=tf.string, name='occupation_input')\n",
    "        self.occupation_sl = tf.keras.layers.StringLookup(vocabulary=all_occupations, num_oov_indices=0, name='occupation_string_lookup')(self.occupation_input)\n",
    "        self.occupation_emb = tf.squeeze(tf.keras.layers.Embedding(len(all_occupations), small_embedding_size, name='occupation_emb')(self.occupation_sl), axis=1)\n",
    "        \n",
    "        self.gender_input = tf.keras.Input(shape=(1,), name='gender_input')\n",
    "        self.hour_input = tf.keras.Input(shape=(1,), name='hour_input')\n",
    "        self.day_input = tf.keras.Input(shape=(1,), name='day_input')\n",
    "        self.month_input = tf.keras.Input(shape=(1,), name='month_input')\n",
    "        \n",
    "        self.user_merged = tf.keras.layers.concatenate([self.user_emb, self.city_emb, self.state_emb, self.age_emb, \n",
    "                                                        self.occupation_emb, self.gender_input, self.hour_input,\n",
    "                                                        self.day_input, self.month_input], \n",
    "                                                       axis=-1, name='user_merged')\n",
    "        self.user_dense = tf.keras.layers.Dense(100, activation='relu', name='user_dense')(self.user_merged)\n",
    "        self.user_last_layer = tf.keras.layers.Dense(tower_last_layer_size, activation='relu', name='user_last_layer')(self.user_dense)\n",
    "        \n",
    "        # Movie tower\n",
    "        \n",
    "        self.movie_input = tf.keras.Input(shape=(None,1), dtype=tf.string, name='movie_input')\n",
    "        self.movie_sl = tf.keras.layers.StringLookup(vocabulary=all_movies, name='movie_string_lookup')(self.movie_input)\n",
    "        self.movie_emb = tf.squeeze(tf.keras.layers.Embedding(len(all_movies)+1, large_embedding_size, name='movie_emb')(self.movie_sl), axis=2)\n",
    "        \n",
    "        self.title_input = tf.keras.Input(shape=(None,title_emb_len), name='title_input')\n",
    "        self.title_dense = tf.keras.layers.Dense(title_emb_len, activation='softmax', name='title_softmax')(self.title_input)\n",
    "        \n",
    "        self.genres_input = tf.keras.Input(shape=(None,len(all_genres)), name='genres_input')\n",
    "        self.year_input = tf.keras.Input(shape=(None,1), name='year_input')\n",
    "        \n",
    "        self.movie_merged = tf.keras.layers.concatenate([self.movie_emb, self.title_dense, self.genres_input, self.year_input] ,axis=-1, name='movie_merged')\n",
    "        self.movie_dense = tf.keras.layers.Dense(100, activation='relu', name='movie_dense')(self.movie_merged)\n",
    "        self.movie_last_layer = tf.keras.layers.Dense(tower_last_layer_size, activation='relu', name='movie_last_layer')(self.movie_dense)\n",
    "        \n",
    "        # Combining towers\n",
    "        \n",
    "        self.towers_multiplied = tf.keras.layers.Multiply(name='towers_multiplied')([tf.expand_dims(self.user_last_layer, axis=2), \n",
    "                                                                                     tf.transpose(self.movie_last_layer, perm=[0,2,1])])\n",
    "        self.towers_dense1 = tf.keras.layers.Dense(40, activation='relu', name='towers_dense1')(tf.transpose(self.towers_multiplied, perm=[0,2,1]))\n",
    "        self.towers_dense2 = tf.keras.layers.Dense(20, activation='relu', name='towers_dense2')(self.towers_dense1)\n",
    "        self.output_node = tf.keras.layers.Dense(1, name='output_node')(self.towers_dense2)\n",
    "        \n",
    "        # Model definition\n",
    "        \n",
    "        self.model = tf.keras.Model(inputs={'user': self.user_input, \n",
    "                                            'city': self.city_input,\n",
    "                                            'state': self.state_input,\n",
    "                                            'age': self.age_input,\n",
    "                                            'occupation': self.occupation_input,\n",
    "                                            'gender': self.gender_input,\n",
    "                                            'hour': self.hour_input,\n",
    "                                            'day': self.day_input,\n",
    "                                            'month': self.month_input,\n",
    "                                            'movie': self.movie_input,\n",
    "                                            'title': self.title_input,\n",
    "                                            'genres': self.genres_input,\n",
    "                                            'year': self.year_input\n",
    "                                            }, \n",
    "                                    outputs=self.output_node)\n",
    "        \n",
    "        self.task = tfrs.tasks.Ranking(\n",
    "            loss = tf.keras.losses.MeanSquaredError(),\n",
    "            metrics=[tf.keras.metrics.RootMeanSquaredError()]\n",
    "        )\n",
    "        \n",
    "    def call(self, features):\n",
    "        return self.model({'user': tf.strings.as_string(features[\"user\"]), \n",
    "                           'city': features[\"city\"], \n",
    "                           'state': features[\"state\"],\n",
    "                           'age': tf.strings.as_string(features[\"age\"]),\n",
    "                           'occupation': tf.strings.as_string(features[\"occupation\"]), \n",
    "                           'gender': features[\"gender\"],\n",
    "                           'hour': features[\"hour\"],\n",
    "                           'day': features[\"day\"],\n",
    "                           'month': features[\"month\"],\n",
    "                           'movie': tf.strings.as_string(features[\"movie\"]),\n",
    "                           'title': features[\"title_emb\"],\n",
    "                           'genres': features[\"genres\"],\n",
    "                           'year': features[\"movie_year\"]\n",
    "                           })\n",
    "    \n",
    "    def compute_loss(self, features_dict, training):\n",
    "        labels = features_dict[\"rating\"]\n",
    "        predictions = self(features_dict)\n",
    "        return self.task(labels=labels, predictions=predictions)"
   ]
  },
  {
   "cell_type": "code",
   "execution_count": 6, 
   "id": "ac27d2fd-fa03-47ae-8194-b87a852e7206",
   "metadata": {},
   "outputs": [
    {
     "data": {
      "text/plain": [
       "<tensorflow.python.training.tracking.util.CheckpointLoadStatus at 0x1695f60a0>"
      ]
     },
     "execution_count": 6, 
     "metadata": {},
     "output_type": "execute_result"
    }
   ],
   "source": [
    "model = RatingPredictionModel()\n",
    "model.compile()\n",
    "model.load_weights('../project_3/weights_3_2/p32')"
   ]
  },
  {
   "cell_type": "markdown",
   "id": "eea45949-c551-4107-947f-afa56cca0998",
   "metadata": {},
   "source": [
    "Next we select a user and 10 movies to use as test examples. In order to get movies with varying predictions, I decided to predict the ratings of 50 movies, and consider the top 5 and lowest 5 ranked movies as my test example."
   ]
  },
  {
   "cell_type": "code",
   "execution_count": 7, 
   "id": "10ccd8ed-efea-4179-8ad2-ba5c0fe675a4",
   "metadata": {},
   "outputs": [
    {
     "data": {
      "text/plain": [
       "array([[8.58000000e+02, 4.17399645e+00],\n",
       "       [9.23000000e+02, 4.07758141e+00],\n",
       "       [9.08000000e+02, 4.07647324e+00],\n",
       "       [2.02800000e+03, 4.07531071e+00],\n",
       "       [2.57100000e+03, 4.02859879e+00],\n",
       "       [4.29000000e+02, 2.85468149e+00],\n",
       "       [2.71000000e+03, 2.76051688e+00],\n",
       "       [2.80500000e+03, 2.67429352e+00],\n",
       "       [1.88200000e+03, 2.17205715e+00],\n",
       "       [7.37000000e+02, 1.94682717e+00]])"
      ]
     },
     "execution_count": 7, 
     "metadata": {},
     "output_type": "execute_result"
    }
   ],
   "source": [
    "user_features = ['user','city','state','gender','age','occupation','hour','day','month']\n",
    "\n",
    "def test_movies_dict(n=50):\n",
    "    df = test_df.iloc[:n,:].drop(user_features+['rating'], axis=1)\n",
    "    d = {k:v.to_numpy() for k,v in dict(df).items()}\n",
    "    d['genres'] = np.transpose(np.array([d[x] for x in all_genres]))\n",
    "    d['title_emb'] = np.transpose(np.array([d[f'title_emb_{i}'] for i in range(title_emb_len)]))\n",
    "    for x in all_genres + [f'title_emb_{i}' for i in range(title_emb_len)]:\n",
    "        d.pop(x)\n",
    "    d.update({k:np.expand_dims(np.vstack(v), axis=0) for k,v in d.items()})\n",
    "    return d\n",
    "\n",
    "def test_user_dict():\n",
    "    test_user = dict(test_df[user_features].iloc[0])\n",
    "    return {k:np.array([v]) for k,v in test_user.items()}\n",
    "\n",
    "prediction_data = test_user_dict()\n",
    "prediction_data.update(test_movies_dict())\n",
    "predicted_ratings = model.predict(prediction_data)\n",
    "\n",
    "movies_array = np.zeros((predicted_ratings.shape[1], 2))\n",
    "for i in range(predicted_ratings.shape[1]):\n",
    "    movies_array[i,0] = prediction_data['movie'][0,i,0]\n",
    "    movies_array[i,1] = predicted_ratings[0,i,0]\n",
    "    \n",
    "movies_array = movies_array[np.argsort(-movies_array[:,1])]\n",
    "movies_array = np.concatenate((movies_array[:5], movies_array[-5:]))\n",
    "\n",
    "# first column = movie ID, second column = predicted rating\n",
    "movies_array"
   ]
  },
  {
   "cell_type": "markdown",
   "id": "aa797233-c5d1-4f5f-9d07-05a501c3c2f9",
   "metadata": {},
   "source": [
    "The code below reranks the list using weighted sampling _(not sure why this is weighted sampling? See [this blogpost][1] (also available [here][2]))_. This process is done 24 times, and results are displayed in the heatmap below, where each item (row) is shown the index it recieved in each weighted sampling (0 being the top item of the list). We can clearly see that while each item recieves very different ranking position, on average the original ranking is more or less preserved.\n",
    "\n",
    "[1]: https://shakedzy.medium.com/going-old-school-designing-algorithms-for-fast-weighted-sampling-in-production-c48fc1f40051\n",
    "[2]: https://blog.taboola.com/going-old-school-designing-algorithms-fast-weighted-sampling-production/"
   ]
  },
  {
   "cell_type": "code",
   "execution_count": 8, 
   "id": "c5ba5efc-c3ac-4ac1-9678-9f7a2fb9ba27",
   "metadata": {},
   "outputs": [
    {
     "data": {
      "text/plain": [
       "<AxesSubplot:>"
      ]
     },
     "execution_count": 8, 
     "metadata": {},
     "output_type": "execute_result"
    },
    {
     "data": {
      "image/png": "[encoded data removed]",
      "text/plain": [
       "<Figure size 1080x504 with 1 Axes>"
      ]
     },
     "metadata": {
      "needs_background": "light"
     },
     "output_type": "display_data"
    }
   ],
   "source": [
    "def weighted_sampling(movies_array):\n",
    "    sampled_weights = np.vectorize(lambda x: np.log(np.random.rand())/x)(movies_array[:,1])\n",
    "    return movies_array[:,0][np.argsort(-sampled_weights)]\n",
    "\n",
    "num_tests = 25\n",
    "results = np.zeros((movies_array.shape[0], num_tests))\n",
    "results[:,0] = movies_array[:,0]\n",
    "for i in range(1, num_tests):\n",
    "    results[:,i] = weighted_sampling(movies_array)\n",
    "    \n",
    "heatmap_array = np.zeros_like(results)\n",
    "for i,m in enumerate(movies_array[:,0]):\n",
    "    idx = np.argwhere(results==m) \n",
    "    heatmap_array[i,:] = idx[np.argsort(idx[:,1])][:,0]\n",
    "    \n",
    "heatmap_df = pd.DataFrame(heatmap_array, index=[int(i) for i in movies_array[:,0]])\n",
    "heatmap_df.rename(columns={0: 'original'}, inplace=True)\n",
    "heatmap_df['avg'] = heatmap_df.apply(lambda row: row.drop('original').mean(), axis=1)\n",
    "plt.figure(figsize=(15,7))\n",
    "sns.heatmap(heatmap_df, annot=True, fmt='.0f', cbar=False, cmap='RdYlGn_r')"
   ]
  }
 ],
 "metadata": {
  "kernelspec": {
   "display_name": "Python 3 (ipykernel)",
   "language": "python",
   "name": "python3"
  },
  "language_info": {
   "codemirror_mode": {
    "name": "ipython",
    "version": 3
   },
   "file_extension": ".py",
   "mimetype": "text/x-python",
   "name": "python",
   "nbconvert_exporter": "python",
   "pygments_lexer": "ipython3",
   "version": "3.9.6"
  }
 },
 "nbformat": 4,
 "nbformat_minor": 5
}
